{
 "cells": [
  {
   "cell_type": "markdown",
   "metadata": {},
   "source": [
    "## 가온 차트 제목, 가수, 가온지수, 가사 크롤링 코드"
   ]
  },
  {
   "cell_type": "code",
   "execution_count": 1,
   "metadata": {},
   "outputs": [],
   "source": [
    "from bs4 import BeautifulSoup\n",
    "import requests\n",
    "import pandas as pd\n",
    "\n",
    "url = \"http://gaonchart.co.kr/main/section/chart/online.gaon?nationGbn=T&serviceGbn=ALL&targetTime=23&hitYear=2019&termGbn=week#\"\n",
    "req = requests.get(url)\n",
    "\n",
    "html = req.text\n",
    "soup = BeautifulSoup(html, 'html.parser')"
   ]
  },
  {
   "cell_type": "code",
   "execution_count": 13,
   "metadata": {},
   "outputs": [
    {
     "data": {
      "text/plain": [
       "['사랑에 연습이 있었다면 (Prod. 2soo)',\n",
       " '누구 없소 (NO ONE) (Feat. B.I of iKON)',\n",
       " '2002',\n",
       " '너에게 못했던 내 마지막 말은',\n",
       " 'bad guy',\n",
       " '작은 것들을 위한 시 (Boy With Luv) (Feat. Hals...',\n",
       " '주저하는 연인들을 위해',\n",
       " 'FANCY',\n",
       " 'Goodbye',\n",
       " '노래방에서']"
      ]
     },
     "execution_count": 13,
     "metadata": {},
     "output_type": "execute_result"
    }
   ],
   "source": [
    "# 제목 크롤링\n",
    "\n",
    "titles = []\n",
    "\n",
    "subject = soup.find_all(\"td\", {\"class\": \"subject\"})\n",
    "\n",
    "for s in subject:\n",
    "    p = s.find_all('p')\n",
    "    titles.append(p[0].text.strip())\n",
    "\n",
    "titles[:10]"
   ]
  },
  {
   "cell_type": "code",
   "execution_count": 14,
   "metadata": {},
   "outputs": [
    {
     "data": {
      "text/plain": [
       "['임재현',\n",
       " '이하이',\n",
       " 'Anne-Marie',\n",
       " '다비치',\n",
       " 'Billie Eilish',\n",
       " '방탄소년단',\n",
       " '잔나비',\n",
       " 'TWICE',\n",
       " '박효신',\n",
       " '장범준']"
      ]
     },
     "execution_count": 14,
     "metadata": {},
     "output_type": "execute_result"
    }
   ],
   "source": [
    "# 가수 크롤링\n",
    "\n",
    "singers = []\n",
    "\n",
    "subject = soup.find_all(\"td\", {\"class\": \"subject\"})\n",
    "\n",
    "for s in subject:\n",
    "    p = s.find_all('p')\n",
    "    singers.append(p[1].text.split('|')[0])\n",
    "\n",
    "singers[:10]"
   ]
  },
  {
   "cell_type": "code",
   "execution_count": 18,
   "metadata": {},
   "outputs": [
    {
     "data": {
      "text/plain": [
       "['44,009,459',\n",
       " '43,074,538',\n",
       " '41,877,109',\n",
       " '38,165,624',\n",
       " '33,544,212',\n",
       " '32,741,579',\n",
       " '28,586,209',\n",
       " '25,750,142',\n",
       " '23,823,214',\n",
       " '23,558,147']"
      ]
     },
     "execution_count": 18,
     "metadata": {},
     "output_type": "execute_result"
    }
   ],
   "source": [
    "# 가온지수 크롤링\n",
    "\n",
    "counts = []\n",
    "\n",
    "count = soup.find_all(\"td\", {\"class\": \"count\"})\n",
    "\n",
    "for c in count:\n",
    "    p = c.find_all('p')\n",
    "    counts.append(p[0].text)\n",
    "\n",
    "counts[:10]"
   ]
  },
  {
   "cell_type": "code",
   "execution_count": 19,
   "metadata": {},
   "outputs": [
    {
     "data": {
      "text/plain": [
       "['javascript:go_returnUrl(\"3715\",\"1655389\");',\n",
       " 'javascript:go_returnUrl(\"3715\",\"1777099\");',\n",
       " 'javascript:go_returnUrl(\"3715\",\"1512809\");',\n",
       " 'javascript:go_returnUrl(\"3715\",\"1771237\");',\n",
       " 'javascript:go_returnUrl(\"3715\",\"1748016\");',\n",
       " 'javascript:go_returnUrl(\"3715\",\"1754120\");',\n",
       " 'javascript:go_returnUrl(\"3715\",\"1740697\");',\n",
       " 'javascript:go_returnUrl(\"3715\",\"1760413\");',\n",
       " 'javascript:go_returnUrl(\"3715\",\"1766839\");',\n",
       " 'javascript:go_returnUrl(\"3715\",\"1744812\");']"
      ]
     },
     "execution_count": 19,
     "metadata": {},
     "output_type": "execute_result"
    }
   ],
   "source": [
    "# 가사 클릭 링크 크롤링\n",
    "\n",
    "links = []\n",
    "\n",
    "play = soup.find_all(\"td\", {\"class\": \"play\"})\n",
    "\n",
    "for p in play:\n",
    "    link_tag = p.find_all('a')[0]\n",
    "    if 'href' in link_tag.attrs:\n",
    "        links.append(link_tag.attrs['href'])\n",
    "        \n",
    "links[:10]"
   ]
  },
  {
   "cell_type": "code",
   "execution_count": null,
   "metadata": {},
   "outputs": [],
   "source": [
    "import time\n",
    "from tqdm.notebook import tqdm\n",
    "from selenium import webdriver\n",
    "\n",
    "path = \"C:/Users/user/chromedriver_win32/chromedriver\"\n",
    "driver = webdriver.Chrome(path)\n",
    "\n",
    "url = \"http://gaonchart.co.kr/main/section/chart/online.gaon?nationGbn=T&serviceGbn=ALL&targetTime=23&hitYear=2019&termGbn=week#\"\n",
    "driver.get(url)\n",
    "\n",
    "lyrics = []\n",
    "\n",
    "for i in tqdm(range(len(titles))):\n",
    "    \n",
    "    try:\n",
    "        driver.execute_script(links[i])\n",
    "        driver.switch_to_window(driver.window_handles[-1])\n",
    "        time.sleep(1)\n",
    "        \n",
    "        # 노래 제목이 같고, 링크 버튼 클래스를 포함하는 a 태그 호출\n",
    "        click = driver.find_element_by_xpath(\"//a[contains(@title, '{}')][contains(@class, 'btn')]\".format(titles[i].split('.')[0]))\n",
    "        click.click()\n",
    "\n",
    "        lyrics.append(driver.find_element_by_class_name(\"lyric\").text)\n",
    "        \n",
    "        driver.close()\n",
    "        time.sleep(1)\n",
    "        \n",
    "        driver.switch_to_window(driver.window_handles[0])\n",
    "       \n",
    "    except:\n",
    "        lyrics.append('x')\n",
    "        \n",
    "        driver.close()\n",
    "        driver.switch_to_window(driver.window_handles[0]) \n",
    "        "
   ]
  },
  {
   "cell_type": "code",
   "execution_count": 70,
   "metadata": {},
   "outputs": [
    {
     "data": {
      "text/html": [
       "<div>\n",
       "<style scoped>\n",
       "    .dataframe tbody tr th:only-of-type {\n",
       "        vertical-align: middle;\n",
       "    }\n",
       "\n",
       "    .dataframe tbody tr th {\n",
       "        vertical-align: top;\n",
       "    }\n",
       "\n",
       "    .dataframe thead th {\n",
       "        text-align: right;\n",
       "    }\n",
       "</style>\n",
       "<table border=\"1\" class=\"dataframe\">\n",
       "  <thead>\n",
       "    <tr style=\"text-align: right;\">\n",
       "      <th></th>\n",
       "      <th>title</th>\n",
       "      <th>singer</th>\n",
       "      <th>lyrics</th>\n",
       "    </tr>\n",
       "  </thead>\n",
       "  <tbody>\n",
       "    <tr>\n",
       "      <th>0</th>\n",
       "      <td>사랑에 연습이 있었다면 (Prod. 2soo)</td>\n",
       "      <td>임재현</td>\n",
       "      <td>사랑에 연습이 있었다면\\n우리는 달라졌을까\\n내가 널 만난 시간 혹은 그 장소\\n상...</td>\n",
       "    </tr>\n",
       "    <tr>\n",
       "      <th>1</th>\n",
       "      <td>누구 없소 (NO ONE) (Feat. B.I of iKON)</td>\n",
       "      <td>이하이</td>\n",
       "      <td>누구 없소\\n나를 붙잡아줄 님은 없소\\n눈을 씻고 찾아봐도 보이지가 않는데\\n어디 ...</td>\n",
       "    </tr>\n",
       "    <tr>\n",
       "      <th>2</th>\n",
       "      <td>2002</td>\n",
       "      <td>Anne-Marie</td>\n",
       "      <td>I will always remember\\nThe day you kissed my ...</td>\n",
       "    </tr>\n",
       "    <tr>\n",
       "      <th>3</th>\n",
       "      <td>너에게 못했던 내 마지막 말은</td>\n",
       "      <td>다비치</td>\n",
       "      <td>아직 남았을까\\n못 잊을 이유가 남아 있을까\\n나만 왜 이렇게\\n바보같이 혼자 널 ...</td>\n",
       "    </tr>\n",
       "    <tr>\n",
       "      <th>4</th>\n",
       "      <td>bad guy</td>\n",
       "      <td>Billie Eilish</td>\n",
       "      <td>White shirt now red\\nmy bloody nose\\nSleepin'\\...</td>\n",
       "    </tr>\n",
       "    <tr>\n",
       "      <th>...</th>\n",
       "      <td>...</td>\n",
       "      <td>...</td>\n",
       "      <td>...</td>\n",
       "    </tr>\n",
       "    <tr>\n",
       "      <th>195</th>\n",
       "      <td>마지막처럼</td>\n",
       "      <td>BLACKPINK</td>\n",
       "      <td>너 뭔데 자꾸 생각나\\n자존심 상해 애가 타\\n얼굴이 뜨겁고 가슴은 계속 뛰어\\n내...</td>\n",
       "    </tr>\n",
       "    <tr>\n",
       "      <th>196</th>\n",
       "      <td>Bellyache</td>\n",
       "      <td>Billie Eilish</td>\n",
       "      <td>x</td>\n",
       "    </tr>\n",
       "    <tr>\n",
       "      <th>197</th>\n",
       "      <td>행복</td>\n",
       "      <td>오반 (OVAN)</td>\n",
       "      <td>난 포기가 쉽죠 적응이 빨라서\\n착한 척 하는가 싶고\\n필요도 없는 생각이 넘 많아...</td>\n",
       "    </tr>\n",
       "    <tr>\n",
       "      <th>198</th>\n",
       "      <td>나들이 갈까</td>\n",
       "      <td>볼빨간사춘기</td>\n",
       "      <td>어디야 너 지금 뭐하고 있는 거야\\n오늘 이 시간쯤엔 연락 올 줄 알았어\\n점심 먹...</td>\n",
       "    </tr>\n",
       "    <tr>\n",
       "      <th>199</th>\n",
       "      <td>Stay</td>\n",
       "      <td>Zedd, Alessia Cara</td>\n",
       "      <td>Waiting for the time\\nto pass you by\\nHope the...</td>\n",
       "    </tr>\n",
       "  </tbody>\n",
       "</table>\n",
       "<p>200 rows × 3 columns</p>\n",
       "</div>"
      ],
      "text/plain": [
       "                                  title              singer  \\\n",
       "0             사랑에 연습이 있었다면 (Prod. 2soo)                 임재현   \n",
       "1    누구 없소 (NO ONE) (Feat. B.I of iKON)                 이하이   \n",
       "2                                  2002          Anne-Marie   \n",
       "3                      너에게 못했던 내 마지막 말은                 다비치   \n",
       "4                               bad guy       Billie Eilish   \n",
       "..                                  ...                 ...   \n",
       "195                               마지막처럼           BLACKPINK   \n",
       "196                           Bellyache       Billie Eilish   \n",
       "197                                  행복           오반 (OVAN)   \n",
       "198                              나들이 갈까              볼빨간사춘기   \n",
       "199                                Stay  Zedd, Alessia Cara   \n",
       "\n",
       "                                                lyrics  \n",
       "0    사랑에 연습이 있었다면\\n우리는 달라졌을까\\n내가 널 만난 시간 혹은 그 장소\\n상...  \n",
       "1    누구 없소\\n나를 붙잡아줄 님은 없소\\n눈을 씻고 찾아봐도 보이지가 않는데\\n어디 ...  \n",
       "2    I will always remember\\nThe day you kissed my ...  \n",
       "3    아직 남았을까\\n못 잊을 이유가 남아 있을까\\n나만 왜 이렇게\\n바보같이 혼자 널 ...  \n",
       "4    White shirt now red\\nmy bloody nose\\nSleepin'\\...  \n",
       "..                                                 ...  \n",
       "195  너 뭔데 자꾸 생각나\\n자존심 상해 애가 타\\n얼굴이 뜨겁고 가슴은 계속 뛰어\\n내...  \n",
       "196                                                  x  \n",
       "197  난 포기가 쉽죠 적응이 빨라서\\n착한 척 하는가 싶고\\n필요도 없는 생각이 넘 많아...  \n",
       "198  어디야 너 지금 뭐하고 있는 거야\\n오늘 이 시간쯤엔 연락 올 줄 알았어\\n점심 먹...  \n",
       "199  Waiting for the time\\nto pass you by\\nHope the...  \n",
       "\n",
       "[200 rows x 3 columns]"
      ]
     },
     "execution_count": 70,
     "metadata": {},
     "output_type": "execute_result"
    }
   ],
   "source": [
    "# 데이터 합치기\n",
    "\n",
    "chart = pd.DataFrame( data = {'title': titles, 'singer': singers, 'count': counts, 'lyrics' : lyrics}) ; chart                    "
   ]
  },
  {
   "cell_type": "code",
   "execution_count": 71,
   "metadata": {},
   "outputs": [
    {
     "data": {
      "text/html": [
       "<div>\n",
       "<style scoped>\n",
       "    .dataframe tbody tr th:only-of-type {\n",
       "        vertical-align: middle;\n",
       "    }\n",
       "\n",
       "    .dataframe tbody tr th {\n",
       "        vertical-align: top;\n",
       "    }\n",
       "\n",
       "    .dataframe thead th {\n",
       "        text-align: right;\n",
       "    }\n",
       "</style>\n",
       "<table border=\"1\" class=\"dataframe\">\n",
       "  <thead>\n",
       "    <tr style=\"text-align: right;\">\n",
       "      <th></th>\n",
       "      <th>title</th>\n",
       "      <th>singer</th>\n",
       "      <th>lyrics</th>\n",
       "    </tr>\n",
       "  </thead>\n",
       "  <tbody>\n",
       "    <tr>\n",
       "      <th>63</th>\n",
       "      <td>봄 (Feat. 산다라박)</td>\n",
       "      <td>박봄</td>\n",
       "      <td>x</td>\n",
       "    </tr>\n",
       "    <tr>\n",
       "      <th>89</th>\n",
       "      <td>FRIENDS</td>\n",
       "      <td>Marshmello, Anne-Marie</td>\n",
       "      <td>x</td>\n",
       "    </tr>\n",
       "    <tr>\n",
       "      <th>106</th>\n",
       "      <td>Intro _ Persona</td>\n",
       "      <td>방탄소년단</td>\n",
       "      <td>x</td>\n",
       "    </tr>\n",
       "    <tr>\n",
       "      <th>107</th>\n",
       "      <td>Idontwannabeyouanymore</td>\n",
       "      <td>Billie Eilish</td>\n",
       "      <td>x</td>\n",
       "    </tr>\n",
       "    <tr>\n",
       "      <th>108</th>\n",
       "      <td>Youth</td>\n",
       "      <td>Troye Sivan</td>\n",
       "      <td>x</td>\n",
       "    </tr>\n",
       "    <tr>\n",
       "      <th>148</th>\n",
       "      <td>Sunflower (Spider-Man _ Into The Spide...</td>\n",
       "      <td>Post Malone &amp; Swae Lee</td>\n",
       "      <td>x</td>\n",
       "    </tr>\n",
       "    <tr>\n",
       "      <th>156</th>\n",
       "      <td>미운 날 (The day, I hate myself)</td>\n",
       "      <td>닐로 (Nilo)</td>\n",
       "      <td>x</td>\n",
       "    </tr>\n",
       "    <tr>\n",
       "      <th>166</th>\n",
       "      <td>IndiGO</td>\n",
       "      <td>저스디스 (JUSTHIS), Kid Milli, NO:EL, 영비 (Young B)</td>\n",
       "      <td>x</td>\n",
       "    </tr>\n",
       "    <tr>\n",
       "      <th>196</th>\n",
       "      <td>Bellyache</td>\n",
       "      <td>Billie Eilish</td>\n",
       "      <td>x</td>\n",
       "    </tr>\n",
       "  </tbody>\n",
       "</table>\n",
       "</div>"
      ],
      "text/plain": [
       "                                         title  \\\n",
       "63                              봄 (Feat. 산다라박)   \n",
       "89                                     FRIENDS   \n",
       "106                            Intro _ Persona   \n",
       "107                     Idontwannabeyouanymore   \n",
       "108                                      Youth   \n",
       "148  Sunflower (Spider-Man _ Into The Spide...   \n",
       "156              미운 날 (The day, I hate myself)   \n",
       "166                                     IndiGO   \n",
       "196                                  Bellyache   \n",
       "\n",
       "                                             singer lyrics  \n",
       "63                                               박봄      x  \n",
       "89                           Marshmello, Anne-Marie      x  \n",
       "106                                           방탄소년단      x  \n",
       "107                                   Billie Eilish      x  \n",
       "108                                     Troye Sivan      x  \n",
       "148                          Post Malone & Swae Lee      x  \n",
       "156                                       닐로 (Nilo)      x  \n",
       "166  저스디스 (JUSTHIS), Kid Milli, NO:EL, 영비 (Young B)      x  \n",
       "196                                   Billie Eilish      x  "
      ]
     },
     "execution_count": 71,
     "metadata": {},
     "output_type": "execute_result"
    }
   ],
   "source": [
    "chart[chart['lyrics'] == \"x\"]"
   ]
  },
  {
   "cell_type": "code",
   "execution_count": 72,
   "metadata": {},
   "outputs": [],
   "source": [
    "# 엑셀 파일로 저장\n",
    "\n",
    "chart.to_excel(\"Gaon_chart_201906.xlsx\") "
   ]
  }
 ],
 "metadata": {
  "kernelspec": {
   "display_name": "Python 3",
   "language": "python",
   "name": "python3"
  },
  "language_info": {
   "codemirror_mode": {
    "name": "ipython",
    "version": 3
   },
   "file_extension": ".py",
   "mimetype": "text/x-python",
   "name": "python",
   "nbconvert_exporter": "python",
   "pygments_lexer": "ipython3",
   "version": "3.7.3"
  }
 },
 "nbformat": 4,
 "nbformat_minor": 2
}
