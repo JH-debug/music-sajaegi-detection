{
 "cells": [
  {
   "cell_type": "markdown",
   "metadata": {},
   "source": [
    "- 가온 차트에는 곡마다 멜론으로 연결되는 링크가 존재\n",
    "- 그 링크를 이용해 앨범 정보 (앨범 좋아요 / 앨범 평점 / 평점 남긴 사람 수 / 앨범 댓글 수 / song_id) 와 곡 정보 (장르 / 가사) 를 크롤링하고자 함"
   ]
  },
  {
   "cell_type": "markdown",
   "metadata": {},
   "source": [
    "## 가온 차트 크롤링\n",
    "순위 / 제목 / 가수 / 가온지수 / album_id (javascript url 형식)"
   ]
  },
  {
   "cell_type": "code",
   "execution_count": 16,
   "metadata": {},
   "outputs": [
    {
     "data": {
      "application/vnd.jupyter.widget-view+json": {
       "model_id": "459a9cb3f94c4abeaf522b35a60ac6c4",
       "version_major": 2,
       "version_minor": 0
      },
      "text/plain": [
       "HBox(children=(FloatProgress(value=0.0, max=2.0), HTML(value='')))"
      ]
     },
     "metadata": {},
     "output_type": "display_data"
    },
    {
     "name": "stdout",
     "output_type": "stream",
     "text": [
      "\n"
     ]
    }
   ],
   "source": [
    "from bs4 import BeautifulSoup\n",
    "import requests\n",
    "from tqdm.notebook import tqdm\n",
    "import pandas as pd\n",
    "\n",
    "Year = ['2018', '2019']\n",
    "Month = ['03', '06', '09', '12']\n",
    "rankings = []\n",
    "titles = []\n",
    "singers = []\n",
    "counts = []\n",
    "album_id = []\n",
    "\n",
    "for Y in tqdm(Year):\n",
    "    for M in Month:\n",
    "        url = \"http://gaonchart.co.kr/main/section/chart/online.gaon?nationGbn=T&serviceGbn=ALL&targetTime=%s&hitYear=%s&termGbn=month\" %(M,Y) \n",
    "        req = requests.get(url)\n",
    "        html = req.text\n",
    "        soup = BeautifulSoup(html, 'html.parser')\n",
    "        gaon_chart = soup.find_all('tr')\n",
    "\n",
    "        for g in gaon_chart:\n",
    "            if g.find('td', {\"class\": 'ranking'}) is not None:\n",
    "                # 순위 크롤링\n",
    "                ranking = g.find('td', {\"class\": 'ranking'}).text\n",
    "                rankings.append(ranking)\n",
    "                # 제목 크롤링\n",
    "                title = g.find(\"td\", {\"class\": \"subject\"}).p.text.strip()\n",
    "                titles.append(title)\n",
    "                # 가수 크롤링\n",
    "                singer = g.find(\"p\", {\"class\": \"singer\"}).text.split('|')[0]\n",
    "                singers.append(singer)\n",
    "                # 가온지수 크롤링\n",
    "                count = int(g.find(\"td\", {\"class\": \"count\"}).p.text.replace(',',''))\n",
    "                counts.append(count)\n",
    "                # 앨범 아이디 크롤링\n",
    "                play = g.find_all(\"td\", {\"class\": \"play\"})\n",
    "                for p in play:\n",
    "                    link_tag = p.find_all('a')[0]\n",
    "                    if 'href' in link_tag.attrs:\n",
    "                        album_id.append(link_tag.attrs['href'].split('\"')[3])"
   ]
  },
  {
   "cell_type": "code",
   "execution_count": 17,
   "metadata": {},
   "outputs": [
    {
     "data": {
      "text/html": [
       "<div>\n",
       "<style scoped>\n",
       "    .dataframe tbody tr th:only-of-type {\n",
       "        vertical-align: middle;\n",
       "    }\n",
       "\n",
       "    .dataframe tbody tr th {\n",
       "        vertical-align: top;\n",
       "    }\n",
       "\n",
       "    .dataframe thead th {\n",
       "        text-align: right;\n",
       "    }\n",
       "</style>\n",
       "<table border=\"1\" class=\"dataframe\">\n",
       "  <thead>\n",
       "    <tr style=\"text-align: right;\">\n",
       "      <th></th>\n",
       "      <th>ranking</th>\n",
       "      <th>title</th>\n",
       "      <th>singer</th>\n",
       "      <th>count</th>\n",
       "      <th>album_id</th>\n",
       "    </tr>\n",
       "  </thead>\n",
       "  <tbody>\n",
       "    <tr>\n",
       "      <th>0</th>\n",
       "      <td>1</td>\n",
       "      <td>별이 빛나는 밤</td>\n",
       "      <td>마마무 (Mamamoo)</td>\n",
       "      <td>219015952</td>\n",
       "      <td>1477451</td>\n",
       "    </tr>\n",
       "    <tr>\n",
       "      <th>1</th>\n",
       "      <td>2</td>\n",
       "      <td>사랑을 했다 (LOVE SCENARIO)</td>\n",
       "      <td>iKON</td>\n",
       "      <td>212503498</td>\n",
       "      <td>1436717</td>\n",
       "    </tr>\n",
       "    <tr>\n",
       "      <th>2</th>\n",
       "      <td>3</td>\n",
       "      <td>꽃 길</td>\n",
       "      <td>빅뱅</td>\n",
       "      <td>196811315</td>\n",
       "      <td>1482894</td>\n",
       "    </tr>\n",
       "    <tr>\n",
       "      <th>3</th>\n",
       "      <td>4</td>\n",
       "      <td>뿜뿜</td>\n",
       "      <td>모모랜드 (MOMOLAND)</td>\n",
       "      <td>176579938</td>\n",
       "      <td>1422062</td>\n",
       "    </tr>\n",
       "    <tr>\n",
       "      <th>4</th>\n",
       "      <td>5</td>\n",
       "      <td>Jenga (Feat. Gaeko)</td>\n",
       "      <td>헤이즈 (Heize)</td>\n",
       "      <td>176316746</td>\n",
       "      <td>1477396</td>\n",
       "    </tr>\n",
       "    <tr>\n",
       "      <th>...</th>\n",
       "      <td>...</td>\n",
       "      <td>...</td>\n",
       "      <td>...</td>\n",
       "      <td>...</td>\n",
       "      <td>...</td>\n",
       "    </tr>\n",
       "    <tr>\n",
       "      <th>1195</th>\n",
       "      <td>196</td>\n",
       "      <td>비가 내리는 날에는</td>\n",
       "      <td>윤하</td>\n",
       "      <td>11921003</td>\n",
       "      <td>1796299</td>\n",
       "    </tr>\n",
       "    <tr>\n",
       "      <th>1196</th>\n",
       "      <td>197</td>\n",
       "      <td>고백</td>\n",
       "      <td>양다일</td>\n",
       "      <td>11847774</td>\n",
       "      <td>1677973</td>\n",
       "    </tr>\n",
       "    <tr>\n",
       "      <th>1197</th>\n",
       "      <td>198</td>\n",
       "      <td>YES or YES</td>\n",
       "      <td>TWICE</td>\n",
       "      <td>11722790</td>\n",
       "      <td>1687302</td>\n",
       "    </tr>\n",
       "    <tr>\n",
       "      <th>1198</th>\n",
       "      <td>199</td>\n",
       "      <td>180도</td>\n",
       "      <td>벤 (Ben)</td>\n",
       "      <td>11610749</td>\n",
       "      <td>1695247</td>\n",
       "    </tr>\n",
       "    <tr>\n",
       "      <th>1199</th>\n",
       "      <td>200</td>\n",
       "      <td>Kill This Love</td>\n",
       "      <td>BLACKPINK</td>\n",
       "      <td>11598328</td>\n",
       "      <td>1750947</td>\n",
       "    </tr>\n",
       "  </tbody>\n",
       "</table>\n",
       "<p>1200 rows × 5 columns</p>\n",
       "</div>"
      ],
      "text/plain": [
       "     ranking                   title           singer      count album_id\n",
       "0          1                별이 빛나는 밤    마마무 (Mamamoo)  219015952  1477451\n",
       "1          2  사랑을 했다 (LOVE SCENARIO)             iKON  212503498  1436717\n",
       "2          3                     꽃 길               빅뱅  196811315  1482894\n",
       "3          4                      뿜뿜  모모랜드 (MOMOLAND)  176579938  1422062\n",
       "4          5     Jenga (Feat. Gaeko)      헤이즈 (Heize)  176316746  1477396\n",
       "...      ...                     ...              ...        ...      ...\n",
       "1195     196              비가 내리는 날에는               윤하   11921003  1796299\n",
       "1196     197                      고백              양다일   11847774  1677973\n",
       "1197     198              YES or YES            TWICE   11722790  1687302\n",
       "1198     199                    180도          벤 (Ben)   11610749  1695247\n",
       "1199     200          Kill This Love        BLACKPINK   11598328  1750947\n",
       "\n",
       "[1200 rows x 5 columns]"
      ]
     },
     "execution_count": 17,
     "metadata": {},
     "output_type": "execute_result"
    }
   ],
   "source": [
    "# 데이터 합치기\n",
    "\n",
    "chart = pd.DataFrame( data = {'ranking': rankings, 'title': titles, 'singer': singers, 'count': counts, 'album_id' : album_id}) ; chart                    "
   ]
  },
  {
   "cell_type": "markdown",
   "metadata": {},
   "source": [
    "## 가온 album_id를 이용한 멜론 앨범 정보 크롤링 함수\n",
    "앨범 좋아요 / 앨범 평점 / 평점 남긴 사람 수 / 앨범 댓글 수 / song_id "
   ]
  },
  {
   "cell_type": "code",
   "execution_count": 20,
   "metadata": {},
   "outputs": [
    {
     "data": {
      "text/plain": [
       "('25272', '4.1', '18483', '34,893', '30937275')"
      ]
     },
     "execution_count": 20,
     "metadata": {},
     "output_type": "execute_result"
    }
   ],
   "source": [
    "from selenium import webdriver\n",
    "from re import sub\n",
    "\n",
    "punc_str = '[,.?!;:`]'\n",
    "\n",
    "def detail_info(album_id, title):\n",
    "    path = \"C:/Users/user/chromedriver_win32/chromedriver\"\n",
    "    driver = webdriver.Chrome(path)\n",
    "    url = \"http://www.gaonchart.co.kr/main/section/chart/ReturnUrl.gaon?serviceGbn=ALL&seq_company=3715&seq_mom=%s\" %(str(album_id))\n",
    "    driver.get(url)\n",
    "    page = driver.page_source\n",
    "    soup = BeautifulSoup(page, 'html.parser')\n",
    "    \n",
    "    album_like = soup.select_one(\"#d_like_count\").text.replace('총건수', '').strip().replace(',', '')\n",
    "    album_grade = soup.select_one(\"#gradPointLayer\").text\n",
    "    album_grade_count = soup.select_one(\"#gradCountLayer\").text.replace('명', '').replace(',','')\n",
    "    album_comment = soup.select_one(\"a span#revCnt\").text.replace('개', '')\n",
    "    \n",
    "    song_list = list(soup.select(\"a.btn.button_icons.type03.song_info\"))\n",
    "    for s in song_list:\n",
    "        t = s.attrs['title']\n",
    "        t = sub(punc_str,'', t.replace(\"'\", ''))\n",
    "        if(t.startswith(title[0:2]) or t.lower() in sub(punc_str,'', title.lower()) or sub(punc_str,'', title.lower()) in t.lower()):\n",
    "            song_id = s.attrs['href'].split(\"'\")[1] # song_id 저장\n",
    "            driver.close() \n",
    "            return album_like, album_grade, album_grade_count, album_comment, song_id\n",
    "        \n",
    "\n",
    "detail_info(1477451, \"별이 빛나는 밤\")"
   ]
  },
  {
   "cell_type": "markdown",
   "metadata": {},
   "source": [
    "## song_id를 이용한 곡 정보 크롤링 함수\n",
    "장르 / 가사"
   ]
  },
  {
   "cell_type": "code",
   "execution_count": 18,
   "metadata": {},
   "outputs": [
    {
     "data": {
      "text/plain": [
       "('댄스',\n",
       " '손끝이 시리더니 벌써 봄이 왔네 꿈같은 바람이 불어 곳곳에 여느 때 와는 다른 듯한 이 기분이 반가워 내일은 좀 다른 날이 되려나 어둠의 그림자 깊은 이 밤에 남겨진 달이 달이 밝아와 빛을 그리고 있어 내 몸에서 널 뺀 만큼 욕조에 물이 미련이 되어 넘쳐흘러 한숨이 가득 그 공간을 채워 새벽이 찾아오면 혼자 남겨질 때면 Starry night 별이 빛나는 밤 네가 휘휘휘 불어와 너와 나 나눈 수많은 밤 나를 취하게 만들어 별이 빛나는 밤 야야야야이야 별이 빛나는 밤 야야야야야야야 별이 빛나는 밤 겨울이 지나고 또다시 꽃은 피고 따뜻한 공기 냄새가 날 감싸 달라진 거 없는 똑같은 일상이 반복돼 그래도 내일을 기다려봐 하루에 끝에서 이 자리에 남아서 날이 날이 새도록 너를 그리고 있어 Do you want me to leave No 난 그 자리 그대로 까만 밤하늘에 가려 잠시 보이지 않는 거야 새벽이 찾아오면 혼자 남겨질 때면 Starry night 별이 빛나는 밤 네가 휘휘휘 불어와 너와 나 나눈 수많은 밤 나를 취하게 만들어 별이 빛나는 밤 야야야야이야 별이 빛나는 밤 야야야야야야야 별이 빛나는 밤 Starry Starry Night 네가 없는 밤 가슴이 공허해 우리의 풍경이 저물어가 현실을 부정해 눈을 감아도 네가 보여 왜 아른거려 Leave me alone 무너져 가네 Starry night 별이 빛나는 밤 네가 휘휘휘 불어와 너와 나 나눈 수많은 밤 나를 취하게 만들어 별이 빛나는 밤 야야야야이야 별이 빛나는 밤 야야야야야야야 별이 빛나는 밤')"
      ]
     },
     "execution_count": 18,
     "metadata": {},
     "output_type": "execute_result"
    }
   ],
   "source": [
    "import re\n",
    "from fake_useragent import UserAgent\n",
    "ua = UserAgent()\n",
    "\n",
    "def get_lyrics(song_id):\n",
    "    url = \"http://www.melon.com/song/detail.htm?songId=%s\"  %(str(song_id))\n",
    "    headers = {'User-Agent' : ua.random}\n",
    "    req = requests.get(url, headers=headers)\n",
    "    soup = BeautifulSoup(req.text, 'html.parser')\n",
    "    # song_like = soup.select_one(\"span#d_like_count\").text.replace('총건수', '').strip().replace(',', '')\n",
    "    element = soup.select(\"dl.list dd\")\n",
    "    genre = element[2].text # 장르 크롤링\n",
    "    txt = soup.select_one('#d_video_summary') # 가사 크롤링\n",
    "    line = list(str(txt).split(\"<br>\"))\n",
    "    rep = re.compile(\"(<div.+-->|</div.?>|</?br/?>)\") # 속성값 제거\n",
    "    data = rep.sub(\" \",str(txt))\n",
    "    lyrics = data.strip()\n",
    "    \n",
    "    return genre, lyrics\n",
    "\n",
    "get_lyrics(30937275)"
   ]
  },
  {
   "cell_type": "markdown",
   "metadata": {},
   "source": [
    "## 멜론 크롤링 함수 적용\n"
   ]
  },
  {
   "cell_type": "code",
   "execution_count": null,
   "metadata": {},
   "outputs": [],
   "source": [
    "chart['result'] = chart.apply(lambda x:detail_info(x['album_id'], x['title']), axis = 1)"
   ]
  },
  {
   "cell_type": "code",
   "execution_count": null,
   "metadata": {},
   "outputs": [],
   "source": [
    "chart[['album_like', 'album_grade', 'album_grade_count', 'album_comment', 'song_id']] = pd.DataFrame(chart['result'].tolist())"
   ]
  },
  {
   "cell_type": "code",
   "execution_count": null,
   "metadata": {},
   "outputs": [],
   "source": [
    "chart.drop(['result'], axis =1)"
   ]
  },
  {
   "cell_type": "code",
   "execution_count": null,
   "metadata": {},
   "outputs": [],
   "source": [
    "chart['result'] = chart.apply(lambda x:get_lyrics(x['song_id']), axis = 1)"
   ]
  },
  {
   "cell_type": "code",
   "execution_count": null,
   "metadata": {},
   "outputs": [],
   "source": [
    "chart[['genre', 'lyrics']] = pd.DataFrame(chart['result'].tolist())"
   ]
  },
  {
   "cell_type": "code",
   "execution_count": null,
   "metadata": {},
   "outputs": [],
   "source": [
    "chart.drop(['result'], axis =1)"
   ]
  },
  {
   "cell_type": "code",
   "execution_count": null,
   "metadata": {},
   "outputs": [],
   "source": [
    "# 엑셀 파일로 저장\n",
    "\n",
    "chart.to_excel(\"1차 데이터.xlsx\") "
   ]
  }
 ],
 "metadata": {
  "kernelspec": {
   "display_name": "Python 3",
   "language": "python",
   "name": "python3"
  },
  "language_info": {
   "codemirror_mode": {
    "name": "ipython",
    "version": 3
   },
   "file_extension": ".py",
   "mimetype": "text/x-python",
   "name": "python",
   "nbconvert_exporter": "python",
   "pygments_lexer": "ipython3",
   "version": "3.7.3"
  }
 },
 "nbformat": 4,
 "nbformat_minor": 2
}
