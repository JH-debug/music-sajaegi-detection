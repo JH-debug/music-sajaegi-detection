{
 "cells": [
  {
   "cell_type": "markdown",
   "metadata": {
    "id": "wuxdRmU4f5iy"
   },
   "source": [
    "#### 데이터 불러와 합치고, train / test set 분리"
   ]
  },
  {
   "cell_type": "code",
   "execution_count": null,
   "metadata": {
    "colab": {
     "base_uri": "https://localhost:8080/",
     "height": 89
    },
    "executionInfo": {
     "elapsed": 691,
     "status": "ok",
     "timestamp": 1600107707856,
     "user": {
      "displayName": "‍이지현[ 학부재학 / 언어학과 ]",
      "photoUrl": "",
      "userId": "08616836268514229893"
     },
     "user_tz": -540
    },
    "id": "msjSQCgjf5i0",
    "outputId": "579e8afa-f621-4aa2-840e-ffea3ad11279"
   },
   "outputs": [
    {
     "name": "stdout",
     "output_type": "stream",
     "text": [
      "(100, 3)\n",
      "(100, 3)\n",
      "(200, 3)\n",
      "(200, 3)\n"
     ]
    }
   ],
   "source": [
    "import csv\n",
    "import pandas as pd\n",
    "import warnings\n",
    "\n",
    "warnings.filterwarnings(\"ignore\")\n",
    "\n",
    "data_1 = pd.read_csv(work_dir + '가온차트.2018.03.txt', sep = '\\t', header = None, names = ['index', 'lyrics', 'score']) \n",
    "data_2 = pd.read_csv(work_dir + '가온차트.2018.06.txt', sep = '\\t', header = None, names = ['index', 'lyrics', 'score']) \n",
    "data_3 = pd.read_csv(work_dir + '가온차트.2019.06.txt', sep = '\\t', header = None, names = ['index', 'lyrics', 'score']) \n",
    "data_4 = pd.read_csv(work_dir + '가온차트.2019.09.txt', sep = '\\t', header = None, names = ['index', 'lyrics', 'score']) \n",
    "\n",
    "print(data_1.shape)\n",
    "print(data_2.shape)\n",
    "print(data_3.shape)\n",
    "print(data_4.shape)"
   ]
  },
  {
   "cell_type": "code",
   "execution_count": null,
   "metadata": {
    "colab": {
     "base_uri": "https://localhost:8080/",
     "height": 35
    },
    "executionInfo": {
     "elapsed": 1239,
     "status": "ok",
     "timestamp": 1600107710887,
     "user": {
      "displayName": "‍이지현[ 학부재학 / 언어학과 ]",
      "photoUrl": "",
      "userId": "08616836268514229893"
     },
     "user_tz": -540
    },
    "id": "O-13jSCnf5i6",
    "outputId": "22e9093e-f113-41ed-c620-8bfeb46843d8"
   },
   "outputs": [
    {
     "name": "stdout",
     "output_type": "stream",
     "text": [
      "(600, 3)\n"
     ]
    }
   ],
   "source": [
    "data_5 = pd.read_excel(work_dir + '600-1200 1차 데이터 합본.xlsx', header = None, names = ['index', 'lyrics', 'score'])\n",
    "\n",
    "print(data_5.shape)"
   ]
  },
  {
   "cell_type": "code",
   "execution_count": null,
   "metadata": {
    "colab": {
     "base_uri": "https://localhost:8080/",
     "height": 204
    },
    "executionInfo": {
     "elapsed": 1164,
     "status": "ok",
     "timestamp": 1600107714269,
     "user": {
      "displayName": "‍이지현[ 학부재학 / 언어학과 ]",
      "photoUrl": "",
      "userId": "08616836268514229893"
     },
     "user_tz": -540
    },
    "id": "5z5jNB2Kf5i-",
    "outputId": "d38d0e47-85db-4ab2-f3c0-c9d827739c71"
   },
   "outputs": [
    {
     "data": {
      "text/html": [
       "<div>\n",
       "<style scoped>\n",
       "    .dataframe tbody tr th:only-of-type {\n",
       "        vertical-align: middle;\n",
       "    }\n",
       "\n",
       "    .dataframe tbody tr th {\n",
       "        vertical-align: top;\n",
       "    }\n",
       "\n",
       "    .dataframe thead th {\n",
       "        text-align: right;\n",
       "    }\n",
       "</style>\n",
       "<table border=\"1\" class=\"dataframe\">\n",
       "  <thead>\n",
       "    <tr style=\"text-align: right;\">\n",
       "      <th></th>\n",
       "      <th>index</th>\n",
       "      <th>lyrics</th>\n",
       "      <th>score</th>\n",
       "    </tr>\n",
       "  </thead>\n",
       "  <tbody>\n",
       "    <tr>\n",
       "      <th>0</th>\n",
       "      <td>0</td>\n",
       "      <td>사랑을 했다 우리가 만나 지우지 못할 추억이 됐다 볼만한 멜로드라마 괜찮은 결말 그...</td>\n",
       "      <td>0.995</td>\n",
       "    </tr>\n",
       "    <tr>\n",
       "      <th>1</th>\n",
       "      <td>1</td>\n",
       "      <td>손끝이 시리더니 벌써 봄이 왔네 꿈같은 바람이 불어 곳곳에 여느 때 와는 다른 듯한...</td>\n",
       "      <td>0.990</td>\n",
       "    </tr>\n",
       "    <tr>\n",
       "      <th>2</th>\n",
       "      <td>2</td>\n",
       "      <td>설레어 너와 나의 랑데뷰 랑데뷰 내 마음을 들었다 놨다 해 맘대루 맘대루 지금 내 ...</td>\n",
       "      <td>0.985</td>\n",
       "    </tr>\n",
       "    <tr>\n",
       "      <th>3</th>\n",
       "      <td>3</td>\n",
       "      <td>i just wanted to play this game 사랑이란 감정에 매료돼 날...</td>\n",
       "      <td>0.980</td>\n",
       "    </tr>\n",
       "    <tr>\n",
       "      <th>4</th>\n",
       "      <td>4</td>\n",
       "      <td>벚꽃이 떨어지던 날 그댈 처음 만났죠 낯설은 떨림과 두려운 설렘들이 뒤섞이던 날 이...</td>\n",
       "      <td>NaN</td>\n",
       "    </tr>\n",
       "  </tbody>\n",
       "</table>\n",
       "</div>"
      ],
      "text/plain": [
       "  index                                             lyrics  score\n",
       "0     0  사랑을 했다 우리가 만나 지우지 못할 추억이 됐다 볼만한 멜로드라마 괜찮은 결말 그...  0.995\n",
       "1     1  손끝이 시리더니 벌써 봄이 왔네 꿈같은 바람이 불어 곳곳에 여느 때 와는 다른 듯한...  0.990\n",
       "2     2  설레어 너와 나의 랑데뷰 랑데뷰 내 마음을 들었다 놨다 해 맘대루 맘대루 지금 내 ...  0.985\n",
       "3     3  i just wanted to play this game 사랑이란 감정에 매료돼 날...  0.980\n",
       "4     4  벚꽃이 떨어지던 날 그댈 처음 만났죠 낯설은 떨림과 두려운 설렘들이 뒤섞이던 날 이...    NaN"
      ]
     },
     "execution_count": 37,
     "metadata": {
      "tags": []
     },
     "output_type": "execute_result"
    }
   ],
   "source": [
    "data = pd.concat([data_1, data_2, data_3, data_4, data_5])\n",
    "data.head()"
   ]
  },
  {
   "cell_type": "code",
   "execution_count": null,
   "metadata": {
    "id": "AR4z2-VFNTpY"
   },
   "outputs": [],
   "source": [
    "data = data.astype({'score' : 'float32'})"
   ]
  },
  {
   "cell_type": "code",
   "execution_count": null,
   "metadata": {
    "colab": {
     "base_uri": "https://localhost:8080/",
     "height": 89
    },
    "executionInfo": {
     "elapsed": 1163,
     "status": "ok",
     "timestamp": 1600107739655,
     "user": {
      "displayName": "‍이지현[ 학부재학 / 언어학과 ]",
      "photoUrl": "",
      "userId": "08616836268514229893"
     },
     "user_tz": -540
    },
    "id": "WTX3sMX0f5jB",
    "outputId": "8f7c293e-e970-4b65-af54-120975db49b9"
   },
   "outputs": [
    {
     "data": {
      "text/plain": [
       "index     1200\n",
       "lyrics    1200\n",
       "score     1194\n",
       "dtype: int64"
      ]
     },
     "execution_count": 38,
     "metadata": {
      "tags": []
     },
     "output_type": "execute_result"
    }
   ],
   "source": [
    "data.count()"
   ]
  },
  {
   "cell_type": "code",
   "execution_count": null,
   "metadata": {
    "colab": {
     "base_uri": "https://localhost:8080/",
     "height": 235
    },
    "executionInfo": {
     "elapsed": 1445,
     "status": "ok",
     "timestamp": 1600107743843,
     "user": {
      "displayName": "‍이지현[ 학부재학 / 언어학과 ]",
      "photoUrl": "",
      "userId": "08616836268514229893"
     },
     "user_tz": -540
    },
    "id": "Wgl1xTZk017p",
    "outputId": "4b5e44f6-e977-49b5-b089-dafad313958e"
   },
   "outputs": [
    {
     "data": {
      "text/html": [
       "<div>\n",
       "<style scoped>\n",
       "    .dataframe tbody tr th:only-of-type {\n",
       "        vertical-align: middle;\n",
       "    }\n",
       "\n",
       "    .dataframe tbody tr th {\n",
       "        vertical-align: top;\n",
       "    }\n",
       "\n",
       "    .dataframe thead th {\n",
       "        text-align: right;\n",
       "    }\n",
       "</style>\n",
       "<table border=\"1\" class=\"dataframe\">\n",
       "  <thead>\n",
       "    <tr style=\"text-align: right;\">\n",
       "      <th></th>\n",
       "      <th>index</th>\n",
       "      <th>lyrics</th>\n",
       "      <th>score</th>\n",
       "    </tr>\n",
       "  </thead>\n",
       "  <tbody>\n",
       "    <tr>\n",
       "      <th>4</th>\n",
       "      <td>4</td>\n",
       "      <td>벚꽃이 떨어지던 날 그댈 처음 만났죠 낯설은 떨림과 두려운 설렘들이 뒤섞이던 날 이...</td>\n",
       "      <td>NaN</td>\n",
       "    </tr>\n",
       "    <tr>\n",
       "      <th>0</th>\n",
       "      <td>0100</td>\n",
       "      <td>저 오늘 떠나요 공항으로 핸드폰 꺼 놔요 제발 날 찾진 말아줘 시끄럽게 소리를 질러...</td>\n",
       "      <td>NaN</td>\n",
       "    </tr>\n",
       "    <tr>\n",
       "      <th>60</th>\n",
       "      <td>0160</td>\n",
       "      <td>널 위해서라면 난 슬퍼도 기쁜 척 할 수가 있었어 널 위해서라면 난 아파도 강한 척...</td>\n",
       "      <td>NaN</td>\n",
       "    </tr>\n",
       "    <tr>\n",
       "      <th>16</th>\n",
       "      <td>216</td>\n",
       "      <td>어떻게 보면 참 전쟁 같았다 우리 행복한 나날의 수만큼 아프게 했던 날들도 많았고 ...</td>\n",
       "      <td>NaN</td>\n",
       "    </tr>\n",
       "    <tr>\n",
       "      <th>37</th>\n",
       "      <td>437</td>\n",
       "      <td>위웅 위웅 싸이렌이 울리면 나를 숨겨주던 여자가 있지 위험 위험 오토바이를 깔으면 ...</td>\n",
       "      <td>NaN</td>\n",
       "    </tr>\n",
       "    <tr>\n",
       "      <th>129</th>\n",
       "      <td>529</td>\n",
       "      <td>매일 같은 옷을 입는 이유 너와 함께 입던 옷이라서 혹시 어디선가 알아보고 날 찾아...</td>\n",
       "      <td>NaN</td>\n",
       "    </tr>\n",
       "  </tbody>\n",
       "</table>\n",
       "</div>"
      ],
      "text/plain": [
       "    index                                             lyrics  score\n",
       "4       4  벚꽃이 떨어지던 날 그댈 처음 만났죠 낯설은 떨림과 두려운 설렘들이 뒤섞이던 날 이...    NaN\n",
       "0    0100  저 오늘 떠나요 공항으로 핸드폰 꺼 놔요 제발 날 찾진 말아줘 시끄럽게 소리를 질러...    NaN\n",
       "60   0160  널 위해서라면 난 슬퍼도 기쁜 척 할 수가 있었어 널 위해서라면 난 아파도 강한 척...    NaN\n",
       "16    216  어떻게 보면 참 전쟁 같았다 우리 행복한 나날의 수만큼 아프게 했던 날들도 많았고 ...    NaN\n",
       "37    437  위웅 위웅 싸이렌이 울리면 나를 숨겨주던 여자가 있지 위험 위험 오토바이를 깔으면 ...    NaN\n",
       "129   529  매일 같은 옷을 입는 이유 너와 함께 입던 옷이라서 혹시 어디선가 알아보고 날 찾아...    NaN"
      ]
     },
     "execution_count": 40,
     "metadata": {
      "tags": []
     },
     "output_type": "execute_result"
    }
   ],
   "source": [
    "# null 값 확인\n",
    "\n",
    "data[data['score'].isnull()]"
   ]
  },
  {
   "cell_type": "code",
   "execution_count": null,
   "metadata": {
    "id": "WSFp3mx11hK0"
   },
   "outputs": [],
   "source": [
    "# null 값 채워주기\n",
    "\n",
    "data['score'][data['score'].isnull and data['index'] == 4] = 0.975\n",
    "data['score'][data['score'].isnull and data['index'] == '0100'] = 0.995\n",
    "data['score'][data['score'].isnull and data['index'] == '0160'] = 0.695\n",
    "data['score'][data['score'].isnull and data['index'] == 216] = 0.915\n",
    "data['score'][data['score'].isnull and data['index'] == 437] = 0.810\n",
    "data['score'][data['score'].isnull and data['index'] == 529] = 0.350"
   ]
  },
  {
   "cell_type": "code",
   "execution_count": null,
   "metadata": {
    "colab": {
     "base_uri": "https://localhost:8080/",
     "height": 89
    },
    "executionInfo": {
     "elapsed": 802,
     "status": "ok",
     "timestamp": 1600107747440,
     "user": {
      "displayName": "‍이지현[ 학부재학 / 언어학과 ]",
      "photoUrl": "",
      "userId": "08616836268514229893"
     },
     "user_tz": -540
    },
    "id": "i6ueOE53Fw7Q",
    "outputId": "479eea9e-bbac-4551-db96-89bc398ce89e"
   },
   "outputs": [
    {
     "data": {
      "text/plain": [
       "index     0\n",
       "lyrics    0\n",
       "score     0\n",
       "dtype: int64"
      ]
     },
     "execution_count": 42,
     "metadata": {
      "tags": []
     },
     "output_type": "execute_result"
    }
   ],
   "source": [
    "data.isnull().sum()"
   ]
  },
  {
   "cell_type": "code",
   "execution_count": null,
   "metadata": {
    "id": "V4P6q_xVf5jG"
   },
   "outputs": [],
   "source": [
    "x = data['lyrics']\n",
    "y = data['score']"
   ]
  },
  {
   "cell_type": "code",
   "execution_count": null,
   "metadata": {
    "id": "NL4vNiZaf5jK"
   },
   "outputs": [],
   "source": [
    "from sklearn.model_selection import train_test_split\n",
    "\n",
    "# train, test = train_test_split(data, test_size=0.2, random_state=321)\n",
    "x_train, x_test, y_train, y_test = train_test_split(x, y, test_size=0.2, random_state=321)"
   ]
  },
  {
   "cell_type": "code",
   "execution_count": null,
   "metadata": {
    "colab": {
     "base_uri": "https://localhost:8080/",
     "height": 89
    },
    "executionInfo": {
     "elapsed": 1130,
     "status": "ok",
     "timestamp": 1600107407307,
     "user": {
      "displayName": "‍이지현[ 학부재학 / 언어학과 ]",
      "photoUrl": "",
      "userId": "08616836268514229893"
     },
     "user_tz": -540
    },
    "id": "PqQzdQiFf5jO",
    "outputId": "b6e2d088-8e66-47ca-a203-6d85aeedaffb"
   },
   "outputs": [
    {
     "name": "stdout",
     "output_type": "stream",
     "text": [
      "960\n",
      "240\n",
      "960\n",
      "240\n"
     ]
    }
   ],
   "source": [
    "# print(len(train))\n",
    "# print(len(test))\n",
    "\n",
    "print(len(x_train))\n",
    "print(len(x_test))\n",
    "print(len(y_train))\n",
    "print(len(y_test))"
   ]
  },
  {
   "cell_type": "markdown",
   "metadata": {
    "id": "_EpTnrQvf5jS"
   },
   "source": [
    "### 텍스트 전처리"
   ]
  },
  {
   "cell_type": "code",
   "execution_count": null,
   "metadata": {
    "id": "WYp1O3Or-KgA"
   },
   "outputs": [],
   "source": [
    "! git clone https://github.com/SOMJANG/Mecab-ko-for-Google-Colab.git\n",
    "%cd Mecab-ko-for-Google-Colab\n",
    "!bash install_mecab-ko_on_colab190912.sh"
   ]
  },
  {
   "cell_type": "code",
   "execution_count": null,
   "metadata": {
    "colab": {
     "base_uri": "https://localhost:8080/",
     "height": 73
    },
    "executionInfo": {
     "elapsed": 121428,
     "status": "ok",
     "timestamp": 1600107538011,
     "user": {
      "displayName": "‍이지현[ 학부재학 / 언어학과 ]",
      "photoUrl": "",
      "userId": "08616836268514229893"
     },
     "user_tz": -540
    },
    "id": "YI85VgQyjlAI",
    "outputId": "856a815f-3ae6-482b-810e-9fa923a810d1"
   },
   "outputs": [
    {
     "name": "stdout",
     "output_type": "stream",
     "text": [
      "['성능', '을', '테스트', '하', '기', '위한', '문장', '입니다', '.']\n",
      "[('성능', 'NNG'), ('을', 'JKO'), ('테스트', 'NNG'), ('하', 'XSV'), ('기', 'ETN'), ('위한', 'VV+ETM'), ('문장', 'NNG'), ('입니다', 'VCP+EF'), ('.', 'SF')]\n"
     ]
    }
   ],
   "source": [
    "from konlpy.tag import Mecab\n",
    "\n",
    "mecab = Mecab()\n",
    "\n",
    "kor_text = '성능을 테스트하기 위한 문장입니다.'\n",
    "\n",
    "print(mecab.morphs(kor_text))  # tokenize\n",
    "print(mecab.pos(kor_text))   # pos tag"
   ]
  },
  {
   "cell_type": "markdown",
   "metadata": {
    "id": "jP2pUAcEAtVC"
   },
   "source": [
    "### 가사 워드 클라우드"
   ]
  },
  {
   "cell_type": "code",
   "execution_count": null,
   "metadata": {
    "colab": {
     "base_uri": "https://localhost:8080/",
     "height": 215
    },
    "executionInfo": {
     "elapsed": 125099,
     "status": "ok",
     "timestamp": 1600107544015,
     "user": {
      "displayName": "‍이지현[ 학부재학 / 언어학과 ]",
      "photoUrl": "",
      "userId": "08616836268514229893"
     },
     "user_tz": -540
    },
    "id": "wKHL-ilTSRz3",
    "outputId": "9663b5ce-1547-419d-aa9f-123cd4b5b722"
   },
   "outputs": [
    {
     "name": "stdout",
     "output_type": "stream",
     "text": [
      "The following NEW packages will be installed:\n",
      "  fonts-nanum\n",
      "0 upgraded, 1 newly installed, 0 to remove and 4 not upgraded.\n",
      "Need to get 9,604 kB of archives.\n",
      "After this operation, 29.5 MB of additional disk space will be used.\n",
      "Selecting previously unselected package fonts-nanum.\n",
      "(Reading database ... 144888 files and directories currently installed.)\n",
      "Preparing to unpack .../fonts-nanum_20170925-1_all.deb ...\n",
      "Unpacking fonts-nanum (20170925-1) ...\n",
      "Setting up fonts-nanum (20170925-1) ...\n",
      "Processing triggers for fontconfig (2.12.6-0ubuntu2) ...\n"
     ]
    }
   ],
   "source": [
    "!apt -qq -y install fonts-nanum"
   ]
  },
  {
   "cell_type": "code",
   "execution_count": null,
   "metadata": {
    "id": "VyeCZjRnNG2k"
   },
   "outputs": [],
   "source": [
    "from wordcloud import WordCloud\n",
    "import matplotlib.font_manager as fm\n",
    "\n",
    "fontpath = '/usr/share/fonts/truetype/nanum/NanumBarunGothic.ttf'\n",
    "font = fm.FontProperties(fname=fontpath, size=9)\n",
    "\n",
    "WC =  WordCloud(font_path = fontpath, background_color='white', width=800, height=600)"
   ]
  },
  {
   "cell_type": "code",
   "execution_count": null,
   "metadata": {
    "id": "R6I0IO38NUEG"
   },
   "outputs": [],
   "source": [
    "def normalize(lyrics):\n",
    "    for l in lyrics:\n",
    "        nouns = mecab.nouns(l)\n",
    "    lyric_noun = [noun for noun in nouns if len(noun) > 1]\n",
    "    return lyric_noun"
   ]
  },
  {
   "cell_type": "code",
   "execution_count": null,
   "metadata": {
    "id": "5n1kfUTZNzUN"
   },
   "outputs": [],
   "source": [
    "normalized_text = normalize(data['lyrics'])"
   ]
  },
  {
   "cell_type": "code",
   "execution_count": null,
   "metadata": {
    "id": "9_HOow9MOXvX"
   },
   "outputs": [],
   "source": [
    "lyrics_wc = WC.generate(' '.join(normalized_text)) "
   ]
  },
  {
   "cell_type": "code",
   "execution_count": null,
   "metadata": {
    "colab": {
     "base_uri": "https://localhost:8080/",
     "height": 248
    },
    "executionInfo": {
     "elapsed": 124221,
     "status": "ok",
     "timestamp": 1600107548382,
     "user": {
      "displayName": "‍이지현[ 학부재학 / 언어학과 ]",
      "photoUrl": "",
      "userId": "08616836268514229893"
     },
     "user_tz": -540
    },
    "id": "fDEoMhUuPdJg",
    "outputId": "0175a4fd-dff6-4bd9-eadc-0020f5055275"
   },
   "outputs": [
    {
     "data": {
      "image/png": "[encoded data removed]",
      "text/plain": [
       "<Figure size 432x288 with 1 Axes>"
      ]
     },
     "metadata": {
      "needs_background": "light",
      "tags": []
     },
     "output_type": "display_data"
    }
   ],
   "source": [
    "import matplotlib.pyplot as plt\n",
    "\n",
    "plt.imshow(lyrics_wc)\n",
    "plt.axis('off')\n",
    "plt.show()"
   ]
  },
  {
   "cell_type": "code",
   "execution_count": null,
   "metadata": {
    "colab": {
     "base_uri": "https://localhost:8080/",
     "height": 1000
    },
    "executionInfo": {
     "elapsed": 122712,
     "status": "ok",
     "timestamp": 1600107548385,
     "user": {
      "displayName": "‍이지현[ 학부재학 / 언어학과 ]",
      "photoUrl": "",
      "userId": "08616836268514229893"
     },
     "user_tz": -540
    },
    "id": "3zECe5ssn75M",
    "outputId": "09c352a5-925b-4fba-e4aa-f825668e9746"
   },
   "outputs": [
    {
     "name": "stdout",
     "output_type": "stream",
     "text": [
      "['사랑/NNG',\n",
      " '한다는/XSV+ETM',\n",
      " '이/MM',\n",
      " '말/NNG',\n",
      " '밖에/JX',\n",
      " '는/JX',\n",
      " '해/VV+EC',\n",
      " '줄/VX+ETM',\n",
      " '말/NNG',\n",
      " '이/JKS',\n",
      " '없/VA',\n",
      " '네요/EC',\n",
      " '의미/NNG',\n",
      " '없/VA',\n",
      " '는/ETM',\n",
      " '말/NNG',\n",
      " '이/JKS',\n",
      " '되/VV',\n",
      " '었/EP',\n",
      " '지만/EC',\n",
      " '사랑/NNG',\n",
      " '해요/XSV+EF',\n",
      " '이제/MAG',\n",
      " '와서/VV+EC',\n",
      " '무슨/MM',\n",
      " '소용/NNG',\n",
      " '있/VV',\n",
      " '겠/EP',\n",
      " '어요/EF',\n",
      " '다신/MAG+JX',\n",
      " '볼/VV+ETM',\n",
      " '수/NNB',\n",
      " '없/VA',\n",
      " '는/ETM',\n",
      " '이별/NNG',\n",
      " '인데/VCP+EC',\n",
      " '돌이킬/VV+ETM',\n",
      " '수/NNB',\n",
      " '없/VA',\n",
      " '는/ETM',\n",
      " '걸/NNB+JKO',\n",
      " '잘/MAG',\n",
      " '알/VV',\n",
      " '고/EC',\n",
      " '있/VX',\n",
      " '지만/EC',\n",
      " '어떻게/MAG',\n",
      " '든/JX',\n",
      " '그댈/NP+JKO',\n",
      " '잡/VV',\n",
      " '아/EC',\n",
      " '두/VX',\n",
      " '고/EC',\n",
      " '싶/VX',\n",
      " '은/ETM',\n",
      " '걸/NNB+JKO',\n",
      " '우우우/MAG',\n",
      " '우우우/MAG',\n",
      " '이/MM',\n",
      " '세상/NNG',\n",
      " '아니/VCN',\n",
      " '라도/EC',\n",
      " '언젠가/MAG',\n",
      " '우리/NP',\n",
      " '다시/MAG',\n",
      " '만날/VV+ETM',\n",
      " '텐데/NNB+VCP+EC',\n",
      " '눈물/NNG',\n",
      " '한/MM',\n",
      " '방울/NNG',\n",
      " '도/JX',\n",
      " '보여선/VV+EC+JX',\n",
      " '안/MAG',\n",
      " '되/VV',\n",
      " '겠/EP',\n",
      " '죠/EF',\n",
      " '사랑/NNG',\n",
      " '에/JKB',\n",
      " '빠지/VV',\n",
      " '게/EC',\n",
      " '만들/VV',\n",
      " '었/EP',\n",
      " '던/ETM',\n",
      " '미소/NNG',\n",
      " '로/JKB',\n",
      " '날/NNG',\n",
      " '떠나/VV',\n",
      " '요/EC',\n",
      " '그/MM',\n",
      " '미소/NNG',\n",
      " '하나/NR',\n",
      " '로/JKB',\n",
      " '언제/NP',\n",
      " '라도/VCP+EC',\n",
      " '그대/NP',\n",
      " '를/JKO',\n",
      " '찾아낼/VV+ETM',\n",
      " '수/NNB',\n",
      " '있/VV',\n",
      " '게/EC',\n",
      " '우리/NP',\n",
      " '사랑/NNG',\n",
      " '안/MAG',\n",
      " '될/VV+ETM',\n",
      " '거/NNB',\n",
      " '라/VCP+EC',\n",
      " '생각/NNG',\n",
      " '했/XSV+EP',\n",
      " '죠/EF',\n",
      " '너무나/MAG',\n",
      " '도/JX',\n",
      " '아름다웠/VA+EP',\n",
      " '기/ETN',\n",
      " '에/JKB',\n",
      " '돌아서/VV',\n",
      " '려/EC',\n",
      " '했었/VX+EP',\n",
      " '던/ETM',\n",
      " '내/MM',\n",
      " '앞/NNG',\n",
      " '에/JKB',\n",
      " '그대/NP',\n",
      " '는/JX',\n",
      " '꿈/NNG',\n",
      " '만/JX',\n",
      " '같/VA',\n",
      " '은/ETM',\n",
      " '사랑/NNG',\n",
      " '으로/JKB',\n",
      " '다가왔었/VV+EP',\n",
      " '죠/EF',\n",
      " '우/IC',\n",
      " '우/IC',\n",
      " '우/IC',\n",
      " '이/MM',\n",
      " '세상/NNG',\n",
      " '아니/VCN',\n",
      " '라도/EC',\n",
      " '언젠가/MAG',\n",
      " '우리/NP',\n",
      " '다시/MAG',\n",
      " '만날/VV+ETM',\n",
      " '텐데/NNB+VCP+EC',\n",
      " '눈물/NNG',\n",
      " '한/MM',\n",
      " '방울/NNG',\n",
      " '도/JX',\n",
      " '보여선/VV+EC+JX',\n",
      " '안/MAG',\n",
      " '되/VV',\n",
      " '겠/EP',\n",
      " '죠/EF',\n",
      " '사랑/NNG',\n",
      " '에/JKB',\n",
      " '빠지/VV',\n",
      " '게/EC',\n",
      " '만들/VV',\n",
      " '었/EP',\n",
      " '던/ETM',\n",
      " '미소/NNG',\n",
      " '로/JKB',\n",
      " '날/NNG',\n",
      " '떠나/VV',\n",
      " '요/EC',\n",
      " '그/MM',\n",
      " '미소/NNG',\n",
      " '하나/NR',\n",
      " '로/JKB',\n",
      " '언제/NP',\n",
      " '라도/VCP+EC',\n",
      " '그대/NP',\n",
      " '를/JKO',\n",
      " '이/MM',\n",
      " '세상/NNG',\n",
      " '아니/VCN',\n",
      " '라도/EC',\n",
      " '언젠가/MAG',\n",
      " '우리/NP',\n",
      " '다시/MAG',\n",
      " '만날/VV+ETM',\n",
      " '텐데/NNB+VCP+EC',\n",
      " '눈물/NNG',\n",
      " '한/MM',\n",
      " '방울/NNG',\n",
      " '도/JX',\n",
      " '보여선/VV+EC+JX',\n",
      " '안/MAG',\n",
      " '되/VV',\n",
      " '겠/EP',\n",
      " '죠/EF',\n",
      " '사랑/NNG',\n",
      " '에/JKB',\n",
      " '빠지/VV',\n",
      " '게/EC',\n",
      " '만들/VV',\n",
      " '었/EP',\n",
      " '던/ETM',\n",
      " '미소/NNG',\n",
      " '로/JKB',\n",
      " '날/NNG',\n",
      " '떠나/VV',\n",
      " '요/EC',\n",
      " '그/MM',\n",
      " '미소/NNG',\n",
      " '하나/NR',\n",
      " '로/JKB',\n",
      " '언제/NP',\n",
      " '라도/VCP+EC',\n",
      " '그대/NP',\n",
      " '를/JKO',\n",
      " '찾아낼/VV+ETM',\n",
      " '수/NNB',\n",
      " '있/VV',\n",
      " '게/EC',\n",
      " '언제/NP',\n",
      " '라도/VCP+EC',\n",
      " '그대/NP',\n",
      " '를/JKO',\n",
      " '언젠가/MAG',\n",
      " '우리/NP',\n",
      " '다시/MAG',\n",
      " '만나/VV',\n",
      " '면/EC',\n",
      " '약속/NNG',\n",
      " '하나/NR',\n",
      " '만/JX',\n",
      " '해요/VV+EF',\n",
      " '이렇게/MAG',\n",
      " '아프/VA',\n",
      " '게/EC',\n",
      " '너무/MAG',\n",
      " '쉽/VA',\n",
      " '게/EC',\n",
      " '헤어질/VV+ETM',\n",
      " '사랑/NNG',\n",
      " '하/VV',\n",
      " '진/EC+JX',\n",
      " '마/VX',\n",
      " '요/EC']\n"
     ]
    }
   ],
   "source": [
    "import json\n",
    "import os\n",
    "from pprint import pprint\n",
    "#json: javascript 문법에 기반한, 데이터 교환 포맷. json 문자열로 인코딩 혹은 python 문자열로 디코딩 가능\n",
    "#pprint: 복잡한 자료구조를 알기쉽게 표현해주는 역할을 하는 모듈 \n",
    "\n",
    "def tokenize(doc):\n",
    "    return ['/'.join(t) for t in mecab.pos(doc)]\n",
    "#변수 t안의 문자열에 '/'연산자를 삽입 \n",
    "#doc의 문자열을 토크나이징 한 후, 품사태깅하는 작업 반복하여 t라는 변수에 저장한 후, '/'연산자 삽입\n",
    "\n",
    "if os.path.isfile(work_dir + 'train_docs.json'):\n",
    "    with open(work_dir + 'train_docs.json') as f:\n",
    "        train_docs = json.load(f)\n",
    "    with open(work_dir + 'test_docs.json') as f:\n",
    "        test_docs = json.load(f)\n",
    "#만약 'train_small_docs.json'파일의 경로가 존재한다면,\n",
    "#(train_small_docs.json: train_small.txt 파일을 tokenize함수에 넣어 결과값을 구한 후, json 파일로 변환)\n",
    "#'train/test_Small_docs.json'파일 열고, 이를 파이썬 객체로 디코딩하여 train/test_docs에 저장\n",
    "\n",
    "else:\n",
    "    train_docs = [(tokenize(row)) for row in x_train]\n",
    "    test_docs = [(tokenize(row)) for row in x_test]\n",
    "\n",
    "    # JSON 파일로 저장\n",
    "    with open(work_dir + 'train_docs.json', 'w', encoding=\"utf-8\") as make_file:\n",
    "        json.dump(train_docs, make_file, ensure_ascii=False, indent=\"\\t\")\n",
    "    with open(work_dir + 'test_docs.json', 'w', encoding=\"utf-8\") as make_file:\n",
    "        json.dump(test_docs, make_file, ensure_ascii=False, indent=\"\\t\")\n",
    "\n",
    "pprint(train_docs[0])"
   ]
  },
  {
   "cell_type": "code",
   "execution_count": null,
   "metadata": {
    "colab": {
     "base_uri": "https://localhost:8080/",
     "height": 35
    },
    "executionInfo": {
     "elapsed": 119643,
     "status": "ok",
     "timestamp": 1600107548388,
     "user": {
      "displayName": "‍이지현[ 학부재학 / 언어학과 ]",
      "photoUrl": "",
      "userId": "08616836268514229893"
     },
     "user_tz": -540
    },
    "id": "6ffxJBvpvMRC",
    "outputId": "9dea20a4-8694-4368-86b2-a0e3d6eba810"
   },
   "outputs": [
    {
     "name": "stdout",
     "output_type": "stream",
     "text": [
      "223713\n"
     ]
    }
   ],
   "source": [
    "tokens = [t for d in train_docs for t in d]    #training data의 토큰 수집\n",
    "\n",
    "print(len(tokens))"
   ]
  },
  {
   "cell_type": "code",
   "execution_count": null,
   "metadata": {
    "colab": {
     "base_uri": "https://localhost:8080/",
     "height": 233
    },
    "executionInfo": {
     "elapsed": 118033,
     "status": "ok",
     "timestamp": 1600107548391,
     "user": {
      "displayName": "‍이지현[ 학부재학 / 언어학과 ]",
      "photoUrl": "",
      "userId": "08616836268514229893"
     },
     "user_tz": -540
    },
    "id": "TiDWXzwSvjYL",
    "outputId": "2a3cfe78-e253-4bf9-e44f-36311ca97fa1"
   },
   "outputs": [
    {
     "name": "stdout",
     "output_type": "stream",
     "text": [
      "223713\n",
      "8827\n",
      "[('이/JKS', 3822),\n",
      " ('너/NP', 3615),\n",
      " ('고/EC', 3606),\n",
      " ('는/ETM', 3334),\n",
      " ('을/JKO', 3225),\n",
      " ('에/JKB', 3213),\n",
      " ('어/EC', 3202),\n",
      " ('가/JKS', 3145),\n",
      " ('나/NP', 2900),\n",
      " ('도/JX', 2688)]\n"
     ]
    }
   ],
   "source": [
    "import nltk\n",
    "\n",
    "text = nltk.Text(tokens, name='NMSC')\n",
    "#nltk.text: 문서를 편리하게 탐색할 수 있도록 하는 기능-> 토큰들을 저장\n",
    "#https://www.lucypark.kr/courses/2015-dm/text-mining.html\n",
    "\n",
    "print(len(text.tokens))\n",
    "print(len(set(text.tokens))) \n",
    "#중복을 제외한 토큰의 개수           \n",
    "pprint(text.vocab().most_common(10))\n",
    "#빈도수를 기준으로 값 도출 "
   ]
  },
  {
   "cell_type": "code",
   "execution_count": null,
   "metadata": {
    "id": "iCxvTMn2wGJ3"
   },
   "outputs": [],
   "source": [
    "selected_words = [f[0] for f in text.vocab().most_common(1000)]\n",
    "#text.vocab().most_common(1000): 빈도수 체크한 후, 빈도수 높은 1000개 추출 \n",
    "#자주 사용되는 1000개의 토큰을 사용하여 데이터 벡터화시키는 과정 \n",
    "#f[0]: f의 0번째 원소에 접근, 리스트의 형태로 저장 \n",
    "\n",
    "def term_frequency(doc):\n",
    "    return [doc.count(word) for word in selected_words]\n",
    "\n",
    "train_x = [term_frequency(d) for d  in train_docs]\n",
    "test_x = [term_frequency(d) for d  in test_docs]\n",
    "\n",
    "#Countvectorization\n",
    "#문서집합에서 단어토큰을 생성하고, 각단어수를 세서 bag of words(단어들의 수치빈도만 고려한 텍스트 수치화 방법) 인코딩한 벡터 생성 "
   ]
  },
  {
   "cell_type": "code",
   "execution_count": null,
   "metadata": {
    "id": "y7ilFDdeEe-_"
   },
   "outputs": [],
   "source": [
    "import numpy as np\n",
    "\n",
    "x_train = np.asarray(train_x).astype('float16')\n",
    "x_test = np.asarray(test_x).astype('float16')\n",
    "\n",
    "y_train = np.asarray(y_train).astype('float16')\n",
    "y_test = np.asarray(y_test).astype('float16')"
   ]
  },
  {
   "cell_type": "code",
   "execution_count": null,
   "metadata": {
    "colab": {
     "base_uri": "https://localhost:8080/",
     "height": 1000
    },
    "executionInfo": {
     "elapsed": 5030,
     "status": "ok",
     "timestamp": 1600107997893,
     "user": {
      "displayName": "‍이지현[ 학부재학 / 언어학과 ]",
      "photoUrl": "",
      "userId": "08616836268514229893"
     },
     "user_tz": -540
    },
    "id": "Cq52t950FiVQ",
    "outputId": "151000b2-4732-4f88-86ed-334af90bc28e"
   },
   "outputs": [
    {
     "name": "stdout",
     "output_type": "stream",
     "text": [
      "Epoch 1/20\n",
      "2/2 [==============================] - 0s 63ms/step - loss: 1.3465 - mse: 1.3465 - mae: 0.9672 - accuracy: 0.0012 - val_loss: 0.6529 - val_mse: 0.6529 - val_mae: 0.6286 - val_accuracy: 0.0000e+00\n",
      "Epoch 2/20\n",
      "2/2 [==============================] - 0s 13ms/step - loss: 0.4491 - mse: 0.4491 - mae: 0.5023 - accuracy: 0.0000e+00 - val_loss: 0.2190 - val_mse: 0.2190 - val_mae: 0.3971 - val_accuracy: 0.0208\n",
      "Epoch 3/20\n",
      "2/2 [==============================] - 0s 13ms/step - loss: 0.2913 - mse: 0.2913 - mae: 0.4546 - accuracy: 0.0012 - val_loss: 0.3153 - val_mse: 0.3153 - val_mae: 0.4816 - val_accuracy: 0.0208\n",
      "Epoch 4/20\n",
      "2/2 [==============================] - 0s 13ms/step - loss: 0.2900 - mse: 0.2900 - mae: 0.4607 - accuracy: 0.0012 - val_loss: 0.1395 - val_mse: 0.1395 - val_mae: 0.3051 - val_accuracy: 0.0208\n",
      "Epoch 5/20\n",
      "2/2 [==============================] - 0s 13ms/step - loss: 0.1399 - mse: 0.1399 - mae: 0.3039 - accuracy: 0.0000e+00 - val_loss: 0.1757 - val_mse: 0.1757 - val_mae: 0.3247 - val_accuracy: 0.0000e+00\n",
      "Epoch 6/20\n",
      "2/2 [==============================] - 0s 13ms/step - loss: 0.1677 - mse: 0.1677 - mae: 0.3222 - accuracy: 0.0000e+00 - val_loss: 0.2096 - val_mse: 0.2096 - val_mae: 0.3510 - val_accuracy: 0.0000e+00\n",
      "Epoch 7/20\n",
      "2/2 [==============================] - 0s 13ms/step - loss: 0.1579 - mse: 0.1579 - mae: 0.3124 - accuracy: 0.0000e+00 - val_loss: 0.1381 - val_mse: 0.1381 - val_mae: 0.2889 - val_accuracy: 0.0000e+00\n",
      "Epoch 8/20\n",
      "2/2 [==============================] - 0s 16ms/step - loss: 0.1033 - mse: 0.1033 - mae: 0.2563 - accuracy: 0.0000e+00 - val_loss: 0.1197 - val_mse: 0.1197 - val_mae: 0.2838 - val_accuracy: 0.0208\n",
      "Epoch 9/20\n",
      "2/2 [==============================] - 0s 13ms/step - loss: 0.1061 - mse: 0.1061 - mae: 0.2639 - accuracy: 0.0000e+00 - val_loss: 0.1314 - val_mse: 0.1314 - val_mae: 0.3062 - val_accuracy: 0.0208\n",
      "Epoch 10/20\n",
      "2/2 [==============================] - 0s 14ms/step - loss: 0.1159 - mse: 0.1159 - mae: 0.2786 - accuracy: 0.0000e+00 - val_loss: 0.1263 - val_mse: 0.1263 - val_mae: 0.2997 - val_accuracy: 0.0208\n",
      "Epoch 11/20\n",
      "2/2 [==============================] - 0s 14ms/step - loss: 0.1025 - mse: 0.1025 - mae: 0.2605 - accuracy: 0.0000e+00 - val_loss: 0.1154 - val_mse: 0.1154 - val_mae: 0.2797 - val_accuracy: 0.0208\n",
      "Epoch 12/20\n",
      "2/2 [==============================] - 0s 13ms/step - loss: 0.0833 - mse: 0.0833 - mae: 0.2317 - accuracy: 0.0000e+00 - val_loss: 0.1200 - val_mse: 0.1200 - val_mae: 0.2731 - val_accuracy: 0.0000e+00\n",
      "Epoch 13/20\n",
      "2/2 [==============================] - 0s 14ms/step - loss: 0.0776 - mse: 0.0776 - mae: 0.2211 - accuracy: 0.0000e+00 - val_loss: 0.1345 - val_mse: 0.1345 - val_mae: 0.2819 - val_accuracy: 0.0000e+00\n",
      "Epoch 14/20\n",
      "2/2 [==============================] - 0s 13ms/step - loss: 0.0809 - mse: 0.0809 - mae: 0.2234 - accuracy: 0.0000e+00 - val_loss: 0.1373 - val_mse: 0.1373 - val_mae: 0.2838 - val_accuracy: 0.0000e+00\n",
      "Epoch 15/20\n",
      "2/2 [==============================] - 0s 12ms/step - loss: 0.0772 - mse: 0.0772 - mae: 0.2181 - accuracy: 0.0000e+00 - val_loss: 0.1240 - val_mse: 0.1240 - val_mae: 0.2753 - val_accuracy: 0.0000e+00\n",
      "Epoch 16/20\n",
      "2/2 [==============================] - 0s 13ms/step - loss: 0.0680 - mse: 0.0680 - mae: 0.2051 - accuracy: 0.0000e+00 - val_loss: 0.1110 - val_mse: 0.1110 - val_mae: 0.2671 - val_accuracy: 0.0000e+00\n",
      "Epoch 17/20\n",
      "2/2 [==============================] - 0s 16ms/step - loss: 0.0628 - mse: 0.0628 - mae: 0.1974 - accuracy: 0.0012 - val_loss: 0.1057 - val_mse: 0.1057 - val_mae: 0.2672 - val_accuracy: 0.0000e+00\n",
      "Epoch 18/20\n",
      "2/2 [==============================] - 0s 13ms/step - loss: 0.0622 - mse: 0.0622 - mae: 0.1971 - accuracy: 0.0012 - val_loss: 0.1045 - val_mse: 0.1045 - val_mae: 0.2684 - val_accuracy: 0.0000e+00\n",
      "Epoch 19/20\n",
      "2/2 [==============================] - 0s 13ms/step - loss: 0.0609 - mse: 0.0609 - mae: 0.1953 - accuracy: 0.0012 - val_loss: 0.1043 - val_mse: 0.1043 - val_mae: 0.2673 - val_accuracy: 0.0000e+00\n",
      "Epoch 20/20\n",
      "2/2 [==============================] - 0s 12ms/step - loss: 0.0573 - mse: 0.0573 - mae: 0.1883 - accuracy: 0.0012 - val_loss: 0.1063 - val_mse: 0.1063 - val_mae: 0.2651 - val_accuracy: 0.0000e+00\n",
      "8/8 [==============================] - 0s 1ms/step - loss: 0.1125 - mse: 0.1125 - mae: 0.2784 - accuracy: 0.0125\n",
      "dict_keys(['loss', 'mse', 'mae', 'accuracy', 'val_loss', 'val_mse', 'val_mae', 'val_accuracy'])\n"
     ]
    },
    {
     "data": {
      "image/png": "[encoded data removed]",
      "text/plain": [
       "<Figure size 432x288 with 1 Axes>"
      ]
     },
     "metadata": {
      "needs_background": "light",
      "tags": []
     },
     "output_type": "display_data"
    },
    {
     "data": {
      "image/png": "[encoded data removed]",
      "text/plain": [
       "<Figure size 432x288 with 1 Axes>"
      ]
     },
     "metadata": {
      "needs_background": "light",
      "tags": []
     },
     "output_type": "display_data"
    }
   ],
   "source": [
    "from tensorflow.keras import models, layers, optimizers, losses, metrics\n",
    "import matplotlib.pyplot as plt\n",
    "\n",
    "model = models.Sequential()\n",
    "model.add(layers.Dense(256, activation='relu', input_shape=(1000,)))\n",
    "model.add(layers.Dense(256, activation='relu'))\n",
    "model.add(layers.Dense(256, activation='relu'))\n",
    "model.add(layers.Dense(1))\n",
    "\n",
    "\n",
    "model.compile(optimizer=optimizers.Adam(lr=0.001),\n",
    "              loss=losses.MSE,\n",
    "              metrics=['mse', 'mae', 'accuracy'])\n",
    "\n",
    "hist = model.fit(x_train, y_train, validation_split=0.1, epochs=20, batch_size=512)\n",
    "results = model.evaluate(x_test, y_test)\n",
    "\n",
    "\n",
    "print(hist.history.keys())\n",
    "plt.plot(hist.history['accuracy'])\n",
    "plt.plot(hist.history['val_accuracy'])\n",
    "plt.title('Accuracy of Model')\n",
    "plt.ylabel('accuracy')\n",
    "plt.xlabel('epoch')\n",
    "plt.legend(['train', 'validate'], loc='upper left')\n",
    "plt.show()\n",
    "\n",
    "plt.plot(hist.history['loss'])\n",
    "plt.plot(hist.history['val_loss'])\n",
    "plt.title('Loss of Model')\n",
    "plt.ylabel('loss')\n",
    "plt.xlabel('epoch')\n",
    "plt.legend(['train', 'validate'], loc='upper left')\n",
    "plt.show()"
   ]
  },
  {
   "cell_type": "code",
   "execution_count": null,
   "metadata": {
    "colab": {
     "base_uri": "https://localhost:8080/",
     "height": 89
    },
    "executionInfo": {
     "elapsed": 2534,
     "status": "ok",
     "timestamp": 1600108004163,
     "user": {
      "displayName": "‍이지현[ 학부재학 / 언어학과 ]",
      "photoUrl": "",
      "userId": "08616836268514229893"
     },
     "user_tz": -540
    },
    "id": "H9hPY2S0Md6P",
    "outputId": "b8132aae-2c44-4dbe-cddd-8d5d6c25aa77"
   },
   "outputs": [
    {
     "data": {
      "text/plain": [
       "[0.11254678666591644,\n",
       " 0.11254678666591644,\n",
       " 0.2784401476383209,\n",
       " 0.012500000186264515]"
      ]
     },
     "execution_count": 51,
     "metadata": {
      "tags": []
     },
     "output_type": "execute_result"
    }
   ],
   "source": [
    "results"
   ]
  },
  {
   "cell_type": "markdown",
   "metadata": {
    "id": "WVhz9M8i35Kj"
   },
   "source": [
    "#### 예측"
   ]
  },
  {
   "cell_type": "code",
   "execution_count": null,
   "metadata": {
    "id": "bLgNRp6rMhk5"
   },
   "outputs": [],
   "source": [
    "def predict(review):\n",
    "    token = tokenize(review)\n",
    "    tf = term_frequency(token)\n",
    "    data = np.expand_dims(np.asarray(tf).astype('float32'), axis=0)\n",
    "    score = float(model.predict(data))\n",
    "    if(score > 0.5):\n",
    "        print(\"[{}]는 {:.2f}% 확률로 상위권의 곡이 아닐까 추측합니다.\\n\".format(review, score * 100))\n",
    "    else:\n",
    "        print(\"[{}]는 {:.2f}% 확률로 하위권의 곡이 아닐까 추측합니다.\\n\".format(review, (1 - score) * 100))"
   ]
  },
  {
   "cell_type": "code",
   "execution_count": null,
   "metadata": {
    "colab": {
     "base_uri": "https://localhost:8080/",
     "height": 737
    },
    "executionInfo": {
     "elapsed": 700,
     "status": "ok",
     "timestamp": 1600108012750,
     "user": {
      "displayName": "‍이지현[ 학부재학 / 언어학과 ]",
      "photoUrl": "",
      "userId": "08616836268514229893"
     },
     "user_tz": -540
    },
    "id": "kT66QWYYHto5",
    "outputId": "90730048-ff88-416c-d7a9-74b6735285af"
   },
   "outputs": [
    {
     "name": "stdout",
     "output_type": "stream",
     "text": [
      "[\n",
      "언제나 꿈꿔 온 순간이\n",
      "여기 지금 내게 시작되고 있어\n",
      "그렇게 너를 사랑했던\n",
      "내 마음을 넌 받아 주었어\n",
      "오 내 기분만큼 밝은 태양과\n",
      "시원한 바람들이 내게 다가와\n",
      "나는 이렇게 행복을 느껴\n",
      "하늘은 우릴 항해 열려 있어\n",
      "그리고 내 곁에는 니가 있어\n",
      "환한 미소와 함께 서 있는\n",
      "그래 너는 푸른 바다야\n",
      "같은 시간 속에 이렇게\n",
      "함께 있는 것만으로도 난 좋아\n",
      "행복한 미소에 니 얼굴\n",
      "나 더 이상 무얼 바라겠니\n",
      "저 파란 하늘 아래서 너와 나\n",
      "여기 이렇게 사랑하고 있어\n",
      "나는 이렇게 행복을 느껴\n",
      "하늘은 우릴 향해 열려있어\n",
      "그리고 내 곁에는 니가 있어\n",
      "환한 미소와 함께 서 있는\n",
      "그래 너는 푸른 바다야\n",
      "더 이상 슬픔은 없는 거야\n",
      "지금 행복한 너와 나\n",
      "태양 아래 우린 서로가\n",
      "사랑하는 걸 알아\n",
      "하늘은 우릴 향해 열려있어\n",
      "그리고 내 곁에는 니가 있어\n",
      "환한 미소와 함께 서 있는\n",
      "그래 너는 푸른 바다야\n",
      "하늘은 우릴 향해 열려있어\n",
      "그리고 내 곁에는 니가 있어\n",
      "환한 미소와 함께 서 있는\n",
      "그래 너는 푸른 바다야\n",
      "너는 푸른 바다야\n",
      "난 너를 사랑해 난 너를 사랑해\n",
      "난 너를 사랑해 난 너를 사랑해\n",
      "]는 51.67% 확률로 하위권의 곡이 아닐까 추측합니다.\n",
      "\n"
     ]
    }
   ],
   "source": [
    "predict(\n",
    "'''\n",
    "언제나 꿈꿔 온 순간이\n",
    "여기 지금 내게 시작되고 있어\n",
    "그렇게 너를 사랑했던\n",
    "내 마음을 넌 받아 주었어\n",
    "오 내 기분만큼 밝은 태양과\n",
    "시원한 바람들이 내게 다가와\n",
    "나는 이렇게 행복을 느껴\n",
    "하늘은 우릴 항해 열려 있어\n",
    "그리고 내 곁에는 니가 있어\n",
    "환한 미소와 함께 서 있는\n",
    "그래 너는 푸른 바다야\n",
    "같은 시간 속에 이렇게\n",
    "함께 있는 것만으로도 난 좋아\n",
    "행복한 미소에 니 얼굴\n",
    "나 더 이상 무얼 바라겠니\n",
    "저 파란 하늘 아래서 너와 나\n",
    "여기 이렇게 사랑하고 있어\n",
    "나는 이렇게 행복을 느껴\n",
    "하늘은 우릴 향해 열려있어\n",
    "그리고 내 곁에는 니가 있어\n",
    "환한 미소와 함께 서 있는\n",
    "그래 너는 푸른 바다야\n",
    "더 이상 슬픔은 없는 거야\n",
    "지금 행복한 너와 나\n",
    "태양 아래 우린 서로가\n",
    "사랑하는 걸 알아\n",
    "하늘은 우릴 향해 열려있어\n",
    "그리고 내 곁에는 니가 있어\n",
    "환한 미소와 함께 서 있는\n",
    "그래 너는 푸른 바다야\n",
    "하늘은 우릴 향해 열려있어\n",
    "그리고 내 곁에는 니가 있어\n",
    "환한 미소와 함께 서 있는\n",
    "그래 너는 푸른 바다야\n",
    "너는 푸른 바다야\n",
    "난 너를 사랑해 난 너를 사랑해\n",
    "난 너를 사랑해 난 너를 사랑해\n",
    "'''\n",
    ")"
   ]
  },
  {
   "cell_type": "code",
   "execution_count": null,
   "metadata": {
    "colab": {
     "base_uri": "https://localhost:8080/",
     "height": 683
    },
    "executionInfo": {
     "elapsed": 927,
     "status": "ok",
     "timestamp": 1600108017282,
     "user": {
      "displayName": "‍이지현[ 학부재학 / 언어학과 ]",
      "photoUrl": "",
      "userId": "08616836268514229893"
     },
     "user_tz": -540
    },
    "id": "vWirqgeWLcQN",
    "outputId": "eb8b495c-9daa-4b86-a758-bd849f85bd3d"
   },
   "outputs": [
    {
     "name": "stdout",
     "output_type": "stream",
     "text": [
      "[\n",
      "같은 시간 속에 서로 다른 기억들\n",
      "우리는 서로를 사랑했을까\n",
      "한낱 내 감정이 이제 와 의미 있겠니\n",
      "나 너를 이해하려고 별짓 다 해봤어 난\n",
      "나쁜 놈 사랑을 내게 가르쳐준\n",
      "나쁜 놈 이별을 처음 알게 해준\n",
      "아픈 널 흉터 같은 널\n",
      "지워보려고 별짓 다 해봤어\n",
      "나쁜 놈 참 이기적인 사랑 뒤에\n",
      "아름다운 이별이 어디 있니\n",
      "내게는 너무 미운 너 그게 아픈 나\n",
      "많이 사랑했던 나쁜 놈\n",
      "내게는 쉽지 않던 우리 사랑의 시작이\n",
      "너에겐 이별의 준비였었니\n",
      "그딴 내 노력이 너에겐 당연했었니\n",
      "나 너를 미워하려고 별짓 다 해봤어 난\n",
      "나쁜 놈 사랑을 내게 가르쳐준\n",
      "나쁜 놈 이별을 처음 알게 해준\n",
      "아픈 널 흉터 같은 널\n",
      "지워보려고 별짓 다 해봤어\n",
      "나쁜 놈 참 이기적인 사랑 뒤에\n",
      "아름다운 이별이 어디 있니\n",
      "그땐 너무 미워서 그게 아파서\n",
      "너에게 미친 나 나에게 지친 너\n",
      "어떻게든 널 되돌려보려고\n",
      "별짓 다 해봤어 난\n",
      "나쁜 놈 눈물로 나를 적시고 간\n",
      "나쁜 놈 추억에 나를 미치게 한\n",
      "아픈 널 상처가 된 널 지워보려고\n",
      "별짓 다 해봤어\n",
      "언젠가 네가 나에게 기대했던\n",
      "아름다운 이별이 있다면\n",
      "그건 사랑이 아냐 진짜가 아냐\n",
      "많이 보고 싶은 나쁜 놈\n",
      "]는 50.23% 확률로 하위권의 곡이 아닐까 추측합니다.\n",
      "\n"
     ]
    }
   ],
   "source": [
    "predict(\n",
    "'''\n",
    "같은 시간 속에 서로 다른 기억들\n",
    "우리는 서로를 사랑했을까\n",
    "한낱 내 감정이 이제 와 의미 있겠니\n",
    "나 너를 이해하려고 별짓 다 해봤어 난\n",
    "나쁜 놈 사랑을 내게 가르쳐준\n",
    "나쁜 놈 이별을 처음 알게 해준\n",
    "아픈 널 흉터 같은 널\n",
    "지워보려고 별짓 다 해봤어\n",
    "나쁜 놈 참 이기적인 사랑 뒤에\n",
    "아름다운 이별이 어디 있니\n",
    "내게는 너무 미운 너 그게 아픈 나\n",
    "많이 사랑했던 나쁜 놈\n",
    "내게는 쉽지 않던 우리 사랑의 시작이\n",
    "너에겐 이별의 준비였었니\n",
    "그딴 내 노력이 너에겐 당연했었니\n",
    "나 너를 미워하려고 별짓 다 해봤어 난\n",
    "나쁜 놈 사랑을 내게 가르쳐준\n",
    "나쁜 놈 이별을 처음 알게 해준\n",
    "아픈 널 흉터 같은 널\n",
    "지워보려고 별짓 다 해봤어\n",
    "나쁜 놈 참 이기적인 사랑 뒤에\n",
    "아름다운 이별이 어디 있니\n",
    "그땐 너무 미워서 그게 아파서\n",
    "너에게 미친 나 나에게 지친 너\n",
    "어떻게든 널 되돌려보려고\n",
    "별짓 다 해봤어 난\n",
    "나쁜 놈 눈물로 나를 적시고 간\n",
    "나쁜 놈 추억에 나를 미치게 한\n",
    "아픈 널 상처가 된 널 지워보려고\n",
    "별짓 다 해봤어\n",
    "언젠가 네가 나에게 기대했던\n",
    "아름다운 이별이 있다면\n",
    "그건 사랑이 아냐 진짜가 아냐\n",
    "많이 보고 싶은 나쁜 놈\n",
    "''')"
   ]
  }
 ],
 "metadata": {
  "accelerator": "GPU",
  "colab": {
   "collapsed_sections": [],
   "name": "lyrics_model_2.ipynb",
   "provenance": []
  },
  "kernelspec": {
   "display_name": "Python 3",
   "language": "python",
   "name": "python3"
  },
  "language_info": {
   "codemirror_mode": {
    "name": "ipython",
    "version": 3
   },
   "file_extension": ".py",
   "mimetype": "text/x-python",
   "name": "python",
   "nbconvert_exporter": "python",
   "pygments_lexer": "ipython3",
   "version": "3.7.3"
  }
 },
 "nbformat": 4,
 "nbformat_minor": 1
}
